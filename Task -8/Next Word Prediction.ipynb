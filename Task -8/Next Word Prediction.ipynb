{
 "cells": [
  {
   "cell_type": "markdown",
   "id": "a7f150fe",
   "metadata": {},
   "source": [
    "# LetsGrowMore (LGMVIP) - \"DATA SCIENCE INTERNSHIP\"\n",
    "\n",
    "## LGMVIP July-22\n",
    "\n",
    "### _Author - Zecil Jain_"
   ]
  },
  {
   "cell_type": "markdown",
   "id": "2bf79617",
   "metadata": {},
   "source": [
    "### Task - 8 Next Word Prediction"
   ]
  },
  {
   "cell_type": "markdown",
   "id": "ac8beb4a",
   "metadata": {},
   "source": [
    "In this project we will be using Tensorflow and Keras library to train a RNN model and using that model we will predict the next word in the text from the dataset."
   ]
  },
  {
   "cell_type": "markdown",
   "id": "201256e9",
   "metadata": {},
   "source": [
    "Dataset Link: https://drive.google.com/file/d/1GeUzNVqiixXHnTl8oNiQ2W3CynX_lsu2/view"
   ]
  },
  {
   "cell_type": "markdown",
   "id": "b2d8f672",
   "metadata": {},
   "source": [
    "## Importing Libraries"
   ]
  },
  {
   "cell_type": "code",
   "execution_count": 1,
   "id": "d2b919fe",
   "metadata": {},
   "outputs": [],
   "source": [
    "import numpy as np\n",
    "import tensorflow as tf\n",
    "from keras.models import Sequential, load_model\n",
    "from keras.layers import LSTM\n",
    "from keras.layers.core import Dense, Activation\n",
    "from tensorflow.keras.optimizers import RMSprop\n",
    "import tensorflow_addons as tfa\n",
    "import matplotlib.pyplot as plt\n",
    "import pickle\n",
    "import heapq\n",
    "\n",
    "np.random.seed(42)\n",
    "\n",
    "import warnings\n",
    "warnings.filterwarnings(\"ignore\")"
   ]
  },
  {
   "cell_type": "markdown",
   "id": "a225dc58",
   "metadata": {},
   "source": [
    "## Loading the Dataset"
   ]
  },
  {
   "cell_type": "markdown",
   "id": "d1621a83",
   "metadata": {},
   "source": [
    "We will be loading the dataset in the 'txt' variable."
   ]
  },
  {
   "cell_type": "code",
   "execution_count": 2,
   "id": "c2aa4deb",
   "metadata": {},
   "outputs": [
    {
     "name": "stdout",
     "output_type": "stream",
     "text": [
      "corpus length 581888\n"
     ]
    }
   ],
   "source": [
    "path = '1661-0.txt'\n",
    "txt = open(path, encoding='utf-8').read().lower()\n",
    "print('corpus length', len(txt))"
   ]
  },
  {
   "cell_type": "markdown",
   "id": "a4372953",
   "metadata": {},
   "source": [
    "Now the next process will be performing the feature engineering in our data. For this purpose, we will require a dictionary with each word in the data within the list of unique words as the key, and it’s significant portions as value."
   ]
  },
  {
   "cell_type": "code",
   "execution_count": 3,
   "id": "90936435",
   "metadata": {},
   "outputs": [
    {
     "name": "stdout",
     "output_type": "stream",
     "text": [
      "unique chars:  73\n"
     ]
    }
   ],
   "source": [
    "chars = sorted(list(set(txt)))\n",
    "char_indices = dict((c, i) for i, c in enumerate(chars))\n",
    "indices_char = dict((i, c) for i, c in enumerate(chars))\n",
    "print (\"unique chars: \",len(chars))"
   ]
  },
  {
   "cell_type": "markdown",
   "id": "f5135970",
   "metadata": {},
   "source": [
    "## Feature Engineering"
   ]
  },
  {
   "cell_type": "markdown",
   "id": "1e6e9702",
   "metadata": {},
   "source": [
    "Here we will define a sequence length which will represent the number of previous words in the sequence that will determine our next word. We will also space the sequences by 3 characters. And we will additionally store the next character (the one we need to predict) for every sequence."
   ]
  },
  {
   "cell_type": "code",
   "execution_count": 4,
   "id": "38d6c1c5",
   "metadata": {},
   "outputs": [
    {
     "name": "stdout",
     "output_type": "stream",
     "text": [
      "num training examples:  193950\n"
     ]
    }
   ],
   "source": [
    "SEQUENCE_LENGTH = 39\n",
    "step = 3\n",
    "sentences = []\n",
    "next_chars = []\n",
    "for i in range(0, len(txt) - SEQUENCE_LENGTH, step):\n",
    "    sentences.append(txt[i:i+SEQUENCE_LENGTH])\n",
    "    next_chars.append(txt[i+SEQUENCE_LENGTH])\n",
    "print ('num training examples: ',len(sentences))"
   ]
  },
  {
   "cell_type": "markdown",
   "id": "7c178411",
   "metadata": {},
   "source": [
    "Now we will create two numpy arrays x for storing the features and y for storing its corresponding label. We will also iterate x and y if the word is available so that the corresponding position becomes 1."
   ]
  },
  {
   "cell_type": "code",
   "execution_count": 5,
   "id": "962e4bf8",
   "metadata": {},
   "outputs": [],
   "source": [
    "X = np.zeros((len(sentences), SEQUENCE_LENGTH, len(chars)), dtype=np.bool)\n",
    "y = np.zeros((len(sentences), len(chars)), dtype=np.bool)\n",
    "for i, sentence in enumerate(sentences):\n",
    "    for t, char in enumerate(sentence):\n",
    "        X[i, t, char_indices[char]] = 1\n",
    "    y[i, char_indices[next_chars[i]]] = 1"
   ]
  },
  {
   "cell_type": "markdown",
   "id": "ffaa3662",
   "metadata": {},
   "source": [
    "Now before moving forward, have a look at a single sequence of words:"
   ]
  },
  {
   "cell_type": "code",
   "execution_count": 6,
   "id": "f858646f",
   "metadata": {},
   "outputs": [
    {
     "name": "stdout",
     "output_type": "stream",
     "text": [
      "[False False False False False False False False False False False False\n",
      " False False False False False False False False False False False False\n",
      " False False False False False False False False False False False False\n",
      " False False False False False False False False False False False False\n",
      " False False False False False False False False False False False False\n",
      " False False False False False False False False False False False False\n",
      "  True]\n"
     ]
    }
   ],
   "source": [
    "print(X[0][0])"
   ]
  },
  {
   "cell_type": "markdown",
   "id": "e6987c31",
   "metadata": {},
   "source": [
    "## Model Building"
   ]
  },
  {
   "cell_type": "markdown",
   "id": "4abf4c48",
   "metadata": {},
   "source": [
    "As we stated earlier, we will use the ___Recurrent Neural networks___ for next word prediction model. Here we will use the __LSTM model__, which is a very powerful RNN."
   ]
  },
  {
   "cell_type": "code",
   "execution_count": 7,
   "id": "ae6c2879",
   "metadata": {},
   "outputs": [],
   "source": [
    "model = Sequential();\n",
    "model.add(LSTM(128, input_shape=(SEQUENCE_LENGTH, len(chars))))\n",
    "model.add(Dense(len(chars)))\n",
    "model.add(Activation('softmax'))"
   ]
  },
  {
   "cell_type": "code",
   "execution_count": 8,
   "id": "c55e2cfa",
   "metadata": {},
   "outputs": [
    {
     "name": "stdout",
     "output_type": "stream",
     "text": [
      "Model: \"sequential\"\n",
      "_________________________________________________________________\n",
      " Layer (type)                Output Shape              Param #   \n",
      "=================================================================\n",
      " lstm (LSTM)                 (None, 128)               103424    \n",
      "                                                                 \n",
      " dense (Dense)               (None, 73)                9417      \n",
      "                                                                 \n",
      " activation (Activation)     (None, 73)                0         \n",
      "                                                                 \n",
      "=================================================================\n",
      "Total params: 112,841\n",
      "Trainable params: 112,841\n",
      "Non-trainable params: 0\n",
      "_________________________________________________________________\n"
     ]
    }
   ],
   "source": [
    "model.summary()"
   ]
  },
  {
   "cell_type": "markdown",
   "id": "7cca7881",
   "metadata": {},
   "source": [
    "## Model Training"
   ]
  },
  {
   "cell_type": "markdown",
   "id": "f819aa91",
   "metadata": {},
   "source": [
    "Here we will be training the next word prediction model with 20 epochs. The model training uses RMSprop as the optimizer with a learning rate of 0.01 and uses categorical cross-entropy for loss function. With a batch size of 128 and a split of 0.5, we train our model:"
   ]
  },
  {
   "cell_type": "code",
   "execution_count": 9,
   "id": "bf65c20f",
   "metadata": {},
   "outputs": [
    {
     "name": "stdout",
     "output_type": "stream",
     "text": [
      "Epoch 1/20\n",
      "1440/1440 [==============================] - 247s 167ms/step - loss: 1.9399 - accuracy: 0.4284 - val_loss: 2.1276 - val_accuracy: 0.4070\n",
      "Epoch 2/20\n",
      "1440/1440 [==============================] - 205s 142ms/step - loss: 1.6026 - accuracy: 0.5199 - val_loss: 2.0843 - val_accuracy: 0.4400\n",
      "Epoch 3/20\n",
      "1440/1440 [==============================] - 233s 162ms/step - loss: 1.5082 - accuracy: 0.5447 - val_loss: 2.0521 - val_accuracy: 0.4496\n",
      "Epoch 4/20\n",
      "1440/1440 [==============================] - 231s 161ms/step - loss: 1.4553 - accuracy: 0.5589 - val_loss: 2.0395 - val_accuracy: 0.4560\n",
      "Epoch 5/20\n",
      "1440/1440 [==============================] - 214s 149ms/step - loss: 1.4195 - accuracy: 0.5695 - val_loss: 2.0481 - val_accuracy: 0.4608\n",
      "Epoch 6/20\n",
      "1440/1440 [==============================] - 207s 144ms/step - loss: 1.3937 - accuracy: 0.5759 - val_loss: 2.0424 - val_accuracy: 0.4630\n",
      "Epoch 7/20\n",
      "1440/1440 [==============================] - 208s 145ms/step - loss: 1.3728 - accuracy: 0.5807 - val_loss: 2.0419 - val_accuracy: 0.4554\n",
      "Epoch 8/20\n",
      "1440/1440 [==============================] - 214s 148ms/step - loss: 1.3570 - accuracy: 0.5858 - val_loss: 2.0450 - val_accuracy: 0.4606\n",
      "Epoch 9/20\n",
      "1440/1440 [==============================] - 211s 147ms/step - loss: 1.3444 - accuracy: 0.5876 - val_loss: 2.0664 - val_accuracy: 0.4677\n",
      "Epoch 10/20\n",
      "1440/1440 [==============================] - 205s 142ms/step - loss: 1.3319 - accuracy: 0.5930 - val_loss: 2.0606 - val_accuracy: 0.4657\n",
      "Epoch 11/20\n",
      "1440/1440 [==============================] - 169s 117ms/step - loss: 1.3223 - accuracy: 0.5948 - val_loss: 2.0707 - val_accuracy: 0.4656\n",
      "Epoch 12/20\n",
      "1440/1440 [==============================] - 156s 108ms/step - loss: 1.3153 - accuracy: 0.5971 - val_loss: 2.0525 - val_accuracy: 0.4741\n",
      "Epoch 13/20\n",
      "1440/1440 [==============================] - 151s 105ms/step - loss: 1.3077 - accuracy: 0.5979 - val_loss: 2.0755 - val_accuracy: 0.4727\n",
      "Epoch 14/20\n",
      "1440/1440 [==============================] - 130s 91ms/step - loss: 1.3003 - accuracy: 0.6010 - val_loss: 2.0583 - val_accuracy: 0.4725\n",
      "Epoch 15/20\n",
      "1440/1440 [==============================] - 128s 89ms/step - loss: 1.2926 - accuracy: 0.6033 - val_loss: 2.1080 - val_accuracy: 0.4628\n",
      "Epoch 16/20\n",
      "1440/1440 [==============================] - 127s 88ms/step - loss: 1.2887 - accuracy: 0.6039 - val_loss: 2.0948 - val_accuracy: 0.4639\n",
      "Epoch 17/20\n",
      "1440/1440 [==============================] - 129s 89ms/step - loss: 1.2823 - accuracy: 0.6059 - val_loss: 2.0861 - val_accuracy: 0.4680\n",
      "Epoch 18/20\n",
      "1440/1440 [==============================] - 128s 89ms/step - loss: 1.2792 - accuracy: 0.6072 - val_loss: 2.0968 - val_accuracy: 0.4767\n",
      "Epoch 19/20\n",
      "1440/1440 [==============================] - 127s 88ms/step - loss: 1.2721 - accuracy: 0.6077 - val_loss: 2.1105 - val_accuracy: 0.4787\n",
      "Epoch 20/20\n",
      "1440/1440 [==============================] - 127s 88ms/step - loss: 1.2684 - accuracy: 0.6090 - val_loss: 2.0823 - val_accuracy: 0.4642\n"
     ]
    }
   ],
   "source": [
    "optimizer = RMSprop(lr= 0.01)\n",
    "model.compile(loss='categorical_crossentropy', optimizer=optimizer, metrics=['accuracy'])\n",
    "history = model.fit(X, y, validation_split=0.05, batch_size=128, epochs=20, shuffle=True).history"
   ]
  },
  {
   "cell_type": "markdown",
   "id": "1780e8e5",
   "metadata": {},
   "source": [
    "We have successfully trained our model and the final accuracy in the training stage that we got is __60.74%__ which is pretty acceptable considering we haven't even fully configured neither our model nor the dataset to their full potential."
   ]
  },
  {
   "cell_type": "markdown",
   "id": "6c8f0a88",
   "metadata": {},
   "source": [
    "## Saving the Trained Model"
   ]
  },
  {
   "cell_type": "markdown",
   "id": "c230a88e",
   "metadata": {},
   "source": [
    "Now we have successfully trained our model, before moving forward to evaluating our model, it will be better to save this model for our future use."
   ]
  },
  {
   "cell_type": "code",
   "execution_count": 10,
   "id": "40574c88",
   "metadata": {},
   "outputs": [],
   "source": [
    "model.save('LGMVIP_Task8_model.h5')\n",
    "pickle.dump(history, open(\"history.p\", \"wb\"))\n",
    "model = load_model('LGMVIP_Task8_model.h5')\n",
    "history = pickle.load(open(\"history.p\", \"rb\"))"
   ]
  },
  {
   "cell_type": "markdown",
   "id": "b8490d2e",
   "metadata": {},
   "source": [
    "## Evaluating the Next Word Prediction Model"
   ]
  },
  {
   "cell_type": "markdown",
   "id": "839a4379",
   "metadata": {},
   "source": [
    "Now let’s have a quick look at how our model is going to behave based on its accuracy and loss changes while training:"
   ]
  },
  {
   "cell_type": "code",
   "execution_count": 11,
   "id": "d18e425c",
   "metadata": {},
   "outputs": [
    {
     "data": {
      "image/png": "[encoded data removed]",
      "text/plain": [
       "<Figure size 432x288 with 1 Axes>"
      ]
     },
     "metadata": {
      "needs_background": "light"
     },
     "output_type": "display_data"
    }
   ],
   "source": [
    "plt.plot(history['accuracy'])\n",
    "plt.plot(history['val_accuracy'])\n",
    "plt.title('model accuracy')\n",
    "plt.ylabel('accuracy')\n",
    "plt.xlabel('epoch')\n",
    "plt.legend(['train', 'test'], loc='best')\n",
    "plt.savefig(\"Task8_Accuracy.png\")"
   ]
  },
  {
   "cell_type": "code",
   "execution_count": 12,
   "id": "6e0cfc27",
   "metadata": {},
   "outputs": [
    {
     "data": {
      "image/png": "[encoded data removed]",
      "text/plain": [
       "<Figure size 432x288 with 1 Axes>"
      ]
     },
     "metadata": {
      "needs_background": "light"
     },
     "output_type": "display_data"
    }
   ],
   "source": [
    "plt.plot(history['loss'])\n",
    "plt.plot(history['val_loss'])\n",
    "plt.title('model loss')\n",
    "plt.ylabel('loss')\n",
    "plt.xlabel('epoch')\n",
    "plt.legend(['train', 'test'], loc= 'best')\n",
    "plt.savefig(\"Task8_Loss.png\")"
   ]
  },
  {
   "cell_type": "markdown",
   "id": "112d0710",
   "metadata": {},
   "source": [
    "## Testing Next Word Prediction Model"
   ]
  },
  {
   "cell_type": "markdown",
   "id": "7256233f",
   "metadata": {},
   "source": [
    "Now let’s build a python program to predict the next word using our trained model. For this, we will define some essential functions that will be used in the process."
   ]
  },
  {
   "cell_type": "code",
   "execution_count": 13,
   "id": "f0e3bc94",
   "metadata": {},
   "outputs": [],
   "source": [
    "def prepare_input(text):\n",
    "    x = np.zeros((1, SEQUENCE_LENGTH, len(chars)))\n",
    "    for t, char in enumerate(text):\n",
    "        x[0, t, char_indices[char]] = 1\n",
    "    return x"
   ]
  },
  {
   "cell_type": "markdown",
   "id": "cfa8f05f",
   "metadata": {},
   "source": [
    "The sequences must be 40 chars long and the tensor is of the shape (1, 40, 57)"
   ]
  },
  {
   "cell_type": "markdown",
   "id": "b6aeb6cb",
   "metadata": {},
   "source": [
    "### The Sample function"
   ]
  },
  {
   "cell_type": "markdown",
   "id": "5c1f31e7",
   "metadata": {},
   "source": [
    "This function allows us to ask our model what are the next probable characters (The heap simplifies the job)"
   ]
  },
  {
   "cell_type": "code",
   "execution_count": 14,
   "id": "33ac4ff7",
   "metadata": {},
   "outputs": [],
   "source": [
    "def sample(preds, top_n = 3):\n",
    "    preds = np.asarray(preds).astype('float64')\n",
    "    preds = np.log(preds)\n",
    "    exp_preds = np.exp(preds)\n",
    "    preds = exp_preds / np.sum(exp_preds)\n",
    "    return heapq.nlargest(top_n, range(len(preds)), preds.take)"
   ]
  },
  {
   "cell_type": "markdown",
   "id": "5a8cdaea",
   "metadata": {},
   "source": [
    "### Prediction function"
   ]
  },
  {
   "cell_type": "code",
   "execution_count": 15,
   "id": "fb2c3987",
   "metadata": {},
   "outputs": [],
   "source": [
    "def predict_completion(text):\n",
    "    original_text = text\n",
    "    generalised = text\n",
    "    completion = ''\n",
    "    while True:\n",
    "        x = prepare_input(text)\n",
    "        preds = model.predict(x, verbose=0)[0]\n",
    "        next_index = sample(preds, top_n=1)[0]\n",
    "        next_char = indices_char[next_index]\n",
    "    text = txt[1:] + next_char\n",
    "    completion += next_char\n",
    "    if len(original_text + completion) + 2 > len(original_text) and next_char == ' ':\n",
    "                return completion"
   ]
  },
  {
   "cell_type": "markdown",
   "id": "d8432639",
   "metadata": {},
   "source": [
    "This function is created to predict the next word until space is generated. It will do this by iterating the input, which will ask our RNN model and extract instances from it. Now we will modify the above function to predict multiple characters:"
   ]
  },
  {
   "cell_type": "markdown",
   "id": "1f4118ff",
   "metadata": {},
   "source": [
    "### Prediction of multiple completions"
   ]
  },
  {
   "cell_type": "code",
   "execution_count": 16,
   "id": "ce8a123c",
   "metadata": {},
   "outputs": [],
   "source": [
    "def predict_completions(text, n = 3):\n",
    "    x = prepare_input(text)\n",
    "    preds = model.predict(x, verbose=0)[0]\n",
    "    next_indices = sample(preds, n)\n",
    "    return [indices_char[idx] + predict_completion(text[1:] + indices_char[idx]) for idx in next_indices]"
   ]
  },
  {
   "cell_type": "markdown",
   "id": "90e70b0b",
   "metadata": {},
   "source": [
    "Now we will use the sequence of 40 characters that we can use as a base for our predictions."
   ]
  },
  {
   "cell_type": "code",
   "execution_count": 17,
   "id": "c6524006",
   "metadata": {},
   "outputs": [],
   "source": [
    "# Sample Test case\n",
    "quotes = [\n",
    "    \"It is not a lack of love, but a lack of friendship that makes unhappy marriages.\",\n",
    "    \"That which does not kill us makes us stronger.\",\n",
    "    \"I'm not upset that you lied to me, I'm upset that from now on I can't believe you.\",\n",
    "    \"And those who were seen dancing were thought to be insane by those who could not hear the music.\",\n",
    "    \"It is hard enough to remember my opinions, without also remembering my reasons for them!\"\n",
    "]"
   ]
  },
  {
   "cell_type": "markdown",
   "id": "bab14010",
   "metadata": {},
   "source": [
    "Now finally, we can use the model to predict the next word:"
   ]
  },
  {
   "cell_type": "code",
   "execution_count": null,
   "id": "88ea7189",
   "metadata": {},
   "outputs": [
    {
     "name": "stdout",
     "output_type": "stream",
     "text": [
      "it is not a lack of love, but a lack of\n"
     ]
    }
   ],
   "source": [
    "for q in quotes:\n",
    "    seq = q[:SEQUENCE_LENGTH].lower()\n",
    "    print (seq)\n",
    "    print (predict_completions(seq, 5))\n",
    "    print ()"
   ]
  },
  {
   "cell_type": "markdown",
   "id": "704e9b1e",
   "metadata": {},
   "source": [
    "The model developed is reliable and efficient enough to be used in realtime scenarios for making predictions using unseen datasets to get the desired results. Hence the project of creating a model for \"Next Word Predictions\" has been successfully completed."
   ]
  },
  {
   "cell_type": "markdown",
   "id": "fee8328e",
   "metadata": {},
   "source": [
    "__Note__: The model requires Tensorflow to work with CUDA which is only supported by NVIDIA GPUs. Since the system on which this project was developed had AMD powered GPU, making predictions was not a possibility but the model is reliable enough to be tested elsewhere in systems having all necessary requirements to support the process."
   ]
  }
 ],
 "metadata": {
  "kernelspec": {
   "display_name": "Python 3 (ipykernel)",
   "language": "python",
   "name": "python3"
  },
  "language_info": {
   "codemirror_mode": {
    "name": "ipython",
    "version": 3
   },
   "file_extension": ".py",
   "mimetype": "text/x-python",
   "name": "python",
   "nbconvert_exporter": "python",
   "pygments_lexer": "ipython3",
   "version": "3.10.1"
  }
 },
 "nbformat": 4,
 "nbformat_minor": 5
}
